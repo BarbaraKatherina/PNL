{
  "cells": [
    {
      "cell_type": "markdown",
      "metadata": {
        "id": "g3yeJGnCYxuF"
      },
      "source": [
        "<img src=\"https://github.com/hernancontigiani/ceia_memorias_especializacion/raw/master/Figures/logoFIUBA.jpg\" width=\"500\" align=\"center\">\n",
        "\n",
        "\n",
        "# Procesamiento de lenguaje natural\n",
        "## Modelo de lenguaje con tokenización por caracteres"
      ]
    },
    {
      "cell_type": "markdown",
      "metadata": {
        "id": "Iv5PEwGzZA9-"
      },
      "source": [
        "### Consigna\n",
        "- Seleccionar un corpus de texto sobre el cual entrenar el modelo de lenguaje.\n",
        "- Realizar el pre-procesamiento adecuado para tokenizar el corpus, estructurar el dataset y separar entre datos de entrenamiento y validación.\n",
        "- Proponer arquitecturas de redes neuronales basadas en unidades recurrentes para implementar un modelo de lenguaje.\n",
        "- Con el o los modelos que consideren adecuados, generar nuevas secuencias a partir de secuencias de contexto con las estrategias de greedy search y beam search determístico y estocástico. En este último caso observar el efecto de la temperatura en la generación de secuencias.\n",
        "\n",
        "\n",
        "### Sugerencias\n",
        "- Durante el entrenamiento, guiarse por el descenso de la perplejidad en los datos de validación para finalizar el entrenamiento. Para ello se provee un callback.\n",
        "- Explorar utilizar SimpleRNN (celda de Elman), LSTM y GRU.\n",
        "- rmsprop es el optimizador recomendado para la buena convergencia. No obstante se pueden explorar otros.\n"
      ]
    },
    {
      "cell_type": "code",
      "execution_count": 1,
      "metadata": {
        "id": "Y-QdFbHZYj7C"
      },
      "outputs": [],
      "source": [
        "import random\n",
        "import io\n",
        "import pickle\n",
        "\n",
        "import numpy as np\n",
        "import pandas as pd\n",
        "import matplotlib.pyplot as plt\n",
        "from sklearn.model_selection import train_test_split\n",
        "\n",
        "from tensorflow import keras\n",
        "from tensorflow.keras import layers\n",
        "from keras.utils import to_categorical\n",
        "from keras.models import Sequential\n",
        "from keras.layers import Dense, LSTM, Embedding, Dropout\n",
        "from tensorflow.keras.losses import SparseCategoricalCrossentropy"
      ]
    },
    {
      "cell_type": "markdown",
      "metadata": {
        "id": "xTvXlEKQZdqx"
      },
      "source": [
        "### Datos\n",
        "Utilizaremos como dataset canciones de bandas de habla inglés."
      ]
    },
    {
      "cell_type": "code",
      "execution_count": 2,
      "metadata": {
        "id": "7amy6uUaBLVD"
      },
      "outputs": [],
      "source": [
        "# descargar de textos.info\n",
        "import urllib.request\n",
        "\n",
        "# Para leer y parsear el texto en HTML de wikipedia\n",
        "import bs4 as bs"
      ]
    },
    {
      "cell_type": "code",
      "execution_count": 3,
      "metadata": {
        "id": "6v_ickFwBJTy"
      },
      "outputs": [],
      "source": [
        "raw_html = urllib.request.urlopen('https://www.textos.info/franz-kafka/la-metamorfosis/ebook')\n",
        "raw_html = raw_html.read()\n",
        "\n",
        "# Parsear artículo, 'lxml' es el parser a utilizar\n",
        "article_html = bs.BeautifulSoup(raw_html, 'lxml')\n",
        "\n",
        "# Encontrar todos los párrafos del HTML (bajo el tag <p>)\n",
        "# y tenerlos disponible como lista\n",
        "article_paragraphs = article_html.find_all('p')\n",
        "\n",
        "article_text = ''\n",
        "\n",
        "for para in article_paragraphs:\n",
        "    article_text += para.text + ' '\n",
        "\n",
        "# pasar todo el texto a minúscula\n",
        "article_text = article_text.lower()"
      ]
    },
    {
      "cell_type": "code",
      "execution_count": 4,
      "metadata": {
        "id": "WBE0sSYuB-E6",
        "colab": {
          "base_uri": "https://localhost:8080/",
          "height": 145
        },
        "outputId": "6ccb25a2-452c-4584-8d75-cab3eba73c90"
      },
      "outputs": [
        {
          "output_type": "execute_result",
          "data": {
            "text/plain": [
              "' cuando gregorio samsa se despertó una mañana después de un sueño \\r\\nintranquilo, se encontró sobre su cama convertido en un monstruoso \\r\\ninsecto. estaba tumbado sobre su espalda dura, y en forma de caparazón \\r\\ny, al levantar un poco la cabeza veía un vientre abombado, parduzco, \\r\\ndividido por partes duras en forma de arco, sobre cuya protuberancia \\r\\napenas podía mantenerse el cobertor, a punto ya de resbalar al suelo. \\r\\nsus muchas patas, ridículamente pequeñas en comparación con el resto de \\r\\nsu tamaño, le vibraban desamparadas ante los ojos. «¿qué me ha ocurrido?», pensó. no era un sueño. su habitación, una auténtica habitación humana, si \\r\\nbien algo pequeña, permanecía tranquila entre las cuatro paredes harto \\r\\nconocidas. por encima de la mesa, sobre la que se encontraba extendido \\r\\nun muestrario de paños desempaquetados —samsa era viajante de comercio—,\\r\\n estaba colgado aquel cuadro que hacía poco había recortado de una \\r\\nrevista y había colocado en un bonito marco dorado. represent'"
            ],
            "application/vnd.google.colaboratory.intrinsic+json": {
              "type": "string"
            }
          },
          "metadata": {},
          "execution_count": 4
        }
      ],
      "source": [
        "# en article text se encuentra el texto de todo el libro\n",
        "article_text[:1000]"
      ]
    },
    {
      "cell_type": "markdown",
      "metadata": {
        "id": "cP1JdiOIKQWi"
      },
      "source": [
        "### Elegir el tamaño del contexto\n",
        "\n",
        "En este caso, como el modelo de lenguaje es por caracteres, todo un gran corpus\n",
        "de texto puede ser considerado un documento en sí mismo y el tamaño de contexto\n",
        "puede ser elegido con más libertad en comparación a un modelo de lenguaje tokenizado por palabras y dividido en documentos más acotados."
      ]
    },
    {
      "cell_type": "code",
      "execution_count": 5,
      "metadata": {
        "id": "wumBNwdjJM3j"
      },
      "outputs": [],
      "source": [
        "# seleccionamos el tamaño de contexto\n",
        "max_context_size = 100"
      ]
    },
    {
      "cell_type": "code",
      "execution_count": 6,
      "metadata": {
        "id": "m5FeTaGvbDbw"
      },
      "outputs": [],
      "source": [
        "# Usaremos las utilidades de procesamiento de textos y secuencias de Keras\n",
        "from tensorflow.keras.utils import pad_sequences # se utilizará para padding"
      ]
    },
    {
      "cell_type": "code",
      "execution_count": 7,
      "metadata": {
        "id": "573Cg5n7VhWw"
      },
      "outputs": [],
      "source": [
        "# en este caso el vocabulario es el conjunto único de caracteres que existe en todo el texto\n",
        "chars_vocab = set(article_text)"
      ]
    },
    {
      "cell_type": "code",
      "execution_count": 8,
      "metadata": {
        "id": "VwTK6xgLJd8q",
        "colab": {
          "base_uri": "https://localhost:8080/"
        },
        "outputId": "3bead4c3-f890-4154-8038-939577481256"
      },
      "outputs": [
        {
          "output_type": "execute_result",
          "data": {
            "text/plain": [
              "59"
            ]
          },
          "metadata": {},
          "execution_count": 8
        }
      ],
      "source": [
        "# la longitud de vocabulario de caracteres es:\n",
        "len(chars_vocab)"
      ]
    },
    {
      "cell_type": "code",
      "execution_count": 9,
      "metadata": {
        "id": "2W0AeQjXV1Ou"
      },
      "outputs": [],
      "source": [
        "# Construimos los dicionarios que asignan índices a caracteres y viceversa.\n",
        "# El diccionario `char2idx` servirá como tokenizador.\n",
        "char2idx = {k: v for v,k in enumerate(chars_vocab)}\n",
        "idx2char = {v: k for k,v in char2idx.items()}"
      ]
    },
    {
      "cell_type": "markdown",
      "metadata": {
        "id": "2oIUjVU0LB0r"
      },
      "source": [
        "###  Tokenizar"
      ]
    },
    {
      "cell_type": "code",
      "execution_count": 10,
      "metadata": {
        "id": "h07G3srdJppo"
      },
      "outputs": [],
      "source": [
        "# tokenizamos el texto completo\n",
        "tokenized_text = [char2idx[ch] for ch in article_text]"
      ]
    },
    {
      "cell_type": "code",
      "execution_count": 11,
      "metadata": {
        "id": "PwGVSKOiJ5bj",
        "colab": {
          "base_uri": "https://localhost:8080/"
        },
        "outputId": "ad72e600-e5fd-4f3f-cb21-21903c2c6830"
      },
      "outputs": [
        {
          "output_type": "execute_result",
          "data": {
            "text/plain": [
              "[27,\n",
              " 45,\n",
              " 11,\n",
              " 34,\n",
              " 12,\n",
              " 53,\n",
              " 8,\n",
              " 27,\n",
              " 50,\n",
              " 2,\n",
              " 20,\n",
              " 50,\n",
              " 8,\n",
              " 2,\n",
              " 42,\n",
              " 8,\n",
              " 27,\n",
              " 48,\n",
              " 34,\n",
              " 32,\n",
              " 48,\n",
              " 34,\n",
              " 27,\n",
              " 48,\n",
              " 20,\n",
              " 27,\n",
              " 53,\n",
              " 20,\n",
              " 48,\n",
              " 26,\n",
              " 20,\n",
              " 2,\n",
              " 16,\n",
              " 5,\n",
              " 27,\n",
              " 11,\n",
              " 12,\n",
              " 34,\n",
              " 27,\n",
              " 32,\n",
              " 34,\n",
              " 35,\n",
              " 34,\n",
              " 12,\n",
              " 34,\n",
              " 27,\n",
              " 53,\n",
              " 20,\n",
              " 48,\n",
              " 26,\n",
              " 11,\n",
              " 39,\n",
              " 48,\n",
              " 27,\n",
              " 53,\n",
              " 20,\n",
              " 27,\n",
              " 11,\n",
              " 12,\n",
              " 27,\n",
              " 48,\n",
              " 11,\n",
              " 20,\n",
              " 35,\n",
              " 8,\n",
              " 27,\n",
              " 29,\n",
              " 21,\n",
              " 42,\n",
              " 12,\n",
              " 16,\n",
              " 2,\n",
              " 34,\n",
              " 12,\n",
              " 19,\n",
              " 11,\n",
              " 42,\n",
              " 47,\n",
              " 8,\n",
              " 3,\n",
              " 27,\n",
              " 48,\n",
              " 20,\n",
              " 27,\n",
              " 20,\n",
              " 12,\n",
              " 45,\n",
              " 8,\n",
              " 12,\n",
              " 16,\n",
              " 2,\n",
              " 5,\n",
              " 27,\n",
              " 48,\n",
              " 8,\n",
              " 58,\n",
              " 2,\n",
              " 20,\n",
              " 27,\n",
              " 48,\n",
              " 11,\n",
              " 27,\n",
              " 45,\n",
              " 34,\n",
              " 32,\n",
              " 34,\n",
              " 27,\n",
              " 45,\n",
              " 8,\n",
              " 12,\n",
              " 4,\n",
              " 20,\n",
              " 2,\n",
              " 16,\n",
              " 42,\n",
              " 53,\n",
              " 8,\n",
              " 27,\n",
              " 20,\n",
              " 12,\n",
              " 27,\n",
              " 11,\n",
              " 12,\n",
              " 27,\n",
              " 32,\n",
              " 8,\n",
              " 12,\n",
              " 48,\n",
              " 16,\n",
              " 2,\n",
              " 11,\n",
              " 8,\n",
              " 48,\n",
              " 8,\n",
              " 27,\n",
              " 29,\n",
              " 21,\n",
              " 42,\n",
              " 12,\n",
              " 48,\n",
              " 20,\n",
              " 45,\n",
              " 16,\n",
              " 8,\n",
              " 30,\n",
              " 27,\n",
              " 20,\n",
              " 48,\n",
              " 16,\n",
              " 34,\n",
              " 58,\n",
              " 34,\n",
              " 27,\n",
              " 16,\n",
              " 11,\n",
              " 32,\n",
              " 58,\n",
              " 34,\n",
              " 53,\n",
              " 8,\n",
              " 27,\n",
              " 48,\n",
              " 8,\n",
              " 58,\n",
              " 2,\n",
              " 20,\n",
              " 27,\n",
              " 48,\n",
              " 11,\n",
              " 27,\n",
              " 20,\n",
              " 48,\n",
              " 26,\n",
              " 34,\n",
              " 47,\n",
              " 53,\n",
              " 34,\n",
              " 27,\n",
              " 53,\n",
              " 11,\n",
              " 2,\n",
              " 34,\n",
              " 3,\n",
              " 27,\n",
              " 28,\n",
              " 27,\n",
              " 20,\n",
              " 12,\n",
              " 27,\n",
              " 15,\n",
              " 8,\n",
              " 2,\n",
              " 32,\n",
              " 34,\n",
              " 27,\n",
              " 53,\n",
              " 20,\n",
              " 27,\n",
              " 45,\n",
              " 34,\n",
              " 26,\n",
              " 34,\n",
              " 2,\n",
              " 34,\n",
              " 31,\n",
              " 5,\n",
              " 12,\n",
              " 27,\n",
              " 29,\n",
              " 21,\n",
              " 28,\n",
              " 3,\n",
              " 27,\n",
              " 34,\n",
              " 47,\n",
              " 27,\n",
              " 47,\n",
              " 20,\n",
              " 4,\n",
              " 34,\n",
              " 12,\n",
              " 16,\n",
              " 34,\n",
              " 2,\n",
              " 27,\n",
              " 11,\n",
              " 12,\n",
              " 27,\n",
              " 26,\n",
              " 8,\n",
              " 45,\n",
              " 8,\n",
              " 27,\n",
              " 47,\n",
              " 34,\n",
              " 27,\n",
              " 45,\n",
              " 34,\n",
              " 58,\n",
              " 20,\n",
              " 31,\n",
              " 34,\n",
              " 27,\n",
              " 4,\n",
              " 20,\n",
              " 55,\n",
              " 34,\n",
              " 27,\n",
              " 11,\n",
              " 12,\n",
              " 27,\n",
              " 4,\n",
              " 42,\n",
              " 20,\n",
              " 12,\n",
              " 16,\n",
              " 2,\n",
              " 20,\n",
              " 27,\n",
              " 34,\n",
              " 58,\n",
              " 8,\n",
              " 32,\n",
              " 58,\n",
              " 34,\n",
              " 53,\n",
              " 8,\n",
              " 3,\n",
              " 27,\n",
              " 26,\n",
              " 34,\n",
              " 2,\n",
              " 53,\n",
              " 11,\n",
              " 31,\n",
              " 45,\n",
              " 8,\n",
              " 3,\n",
              " 27,\n",
              " 29,\n",
              " 21,\n",
              " 53,\n",
              " 42,\n",
              " 4,\n",
              " 42,\n",
              " 53,\n",
              " 42,\n",
              " 53,\n",
              " 8,\n",
              " 27,\n",
              " 26,\n",
              " 8,\n",
              " 2,\n",
              " 27,\n",
              " 26,\n",
              " 34,\n",
              " 2,\n",
              " 16,\n",
              " 20,\n",
              " 48,\n",
              " 27,\n",
              " 53,\n",
              " 11,\n",
              " 2,\n",
              " 34,\n",
              " 48,\n",
              " 27,\n",
              " 20,\n",
              " 12,\n",
              " 27,\n",
              " 15,\n",
              " 8,\n",
              " 2,\n",
              " 32,\n",
              " 34,\n",
              " 27,\n",
              " 53,\n",
              " 20,\n",
              " 27,\n",
              " 34,\n",
              " 2,\n",
              " 45,\n",
              " 8,\n",
              " 3,\n",
              " 27,\n",
              " 48,\n",
              " 8,\n",
              " 58,\n",
              " 2,\n",
              " 20,\n",
              " 27,\n",
              " 45,\n",
              " 11,\n",
              " 28,\n",
              " 34,\n",
              " 27,\n",
              " 26,\n",
              " 2,\n",
              " 8,\n",
              " 16,\n",
              " 11,\n",
              " 58,\n",
              " 20,\n",
              " 2,\n",
              " 34,\n",
              " 12,\n",
              " 45,\n",
              " 42,\n",
              " 34,\n",
              " 27,\n",
              " 29,\n",
              " 21,\n",
              " 34,\n",
              " 26,\n",
              " 20,\n",
              " 12,\n",
              " 34,\n",
              " 48,\n",
              " 27,\n",
              " 26,\n",
              " 8,\n",
              " 53,\n",
              " 55,\n",
              " 34,\n",
              " 27,\n",
              " 32,\n",
              " 34,\n",
              " 12,\n",
              " 16,\n",
              " 20,\n",
              " 12,\n",
              " 20,\n",
              " 2,\n",
              " 48,\n",
              " 20,\n",
              " 27,\n",
              " 20,\n",
              " 47,\n",
              " 27,\n",
              " 45,\n",
              " 8,\n",
              " 58,\n",
              " 20,\n",
              " 2,\n",
              " 16,\n",
              " 8,\n",
              " 2,\n",
              " 3,\n",
              " 27,\n",
              " 34,\n",
              " 27,\n",
              " 26,\n",
              " 11,\n",
              " 12,\n",
              " 16,\n",
              " 8,\n",
              " 27,\n",
              " 28,\n",
              " 34,\n",
              " 27,\n",
              " 53,\n",
              " 20,\n",
              " 27,\n",
              " 2,\n",
              " 20,\n",
              " 48,\n",
              " 58,\n",
              " 34,\n",
              " 47,\n",
              " 34,\n",
              " 2,\n",
              " 27,\n",
              " 34,\n",
              " 47,\n",
              " 27,\n",
              " 48,\n",
              " 11,\n",
              " 20,\n",
              " 47,\n",
              " 8,\n",
              " 30,\n",
              " 27,\n",
              " 29,\n",
              " 21,\n",
              " 48,\n",
              " 11,\n",
              " 48,\n",
              " 27,\n",
              " 32,\n",
              " 11,\n",
              " 45,\n",
              " 17,\n",
              " 34,\n",
              " 48,\n",
              " 27,\n",
              " 26,\n",
              " 34,\n",
              " 16,\n",
              " 34,\n",
              " 48,\n",
              " 3,\n",
              " 27,\n",
              " 2,\n",
              " 42,\n",
              " 53,\n",
              " 55,\n",
              " 45,\n",
              " 11,\n",
              " 47,\n",
              " 34,\n",
              " 32,\n",
              " 20,\n",
              " 12,\n",
              " 16,\n",
              " 20,\n",
              " 27,\n",
              " 26,\n",
              " 20,\n",
              " 19,\n",
              " 11,\n",
              " 20,\n",
              " 35,\n",
              " 34,\n",
              " 48,\n",
              " 27,\n",
              " 20,\n",
              " 12,\n",
              " 27,\n",
              " 45,\n",
              " 8,\n",
              " 32,\n",
              " 26,\n",
              " 34,\n",
              " 2,\n",
              " 34,\n",
              " 45,\n",
              " 42,\n",
              " 5,\n",
              " 12,\n",
              " 27,\n",
              " 45,\n",
              " 8,\n",
              " 12,\n",
              " 27,\n",
              " 20,\n",
              " 47,\n",
              " 27,\n",
              " 2,\n",
              " 20,\n",
              " 48,\n",
              " 16,\n",
              " 8,\n",
              " 27,\n",
              " 53,\n",
              " 20,\n",
              " 27,\n",
              " 29,\n",
              " 21,\n",
              " 48,\n",
              " 11,\n",
              " 27,\n",
              " 16,\n",
              " 34,\n",
              " 32,\n",
              " 34,\n",
              " 35,\n",
              " 8,\n",
              " 3,\n",
              " 27,\n",
              " 47,\n",
              " 20,\n",
              " 27,\n",
              " 4,\n",
              " 42,\n",
              " 58,\n",
              " 2,\n",
              " 34,\n",
              " 58,\n",
              " 34,\n",
              " 12,\n",
              " 27,\n",
              " 53,\n",
              " 20,\n",
              " 48,\n",
              " 34,\n",
              " 32,\n",
              " 26,\n",
              " 34,\n",
              " 2,\n",
              " 34,\n",
              " 53,\n",
              " 34,\n",
              " 48,\n",
              " 27,\n",
              " 34,\n",
              " 12,\n",
              " 16,\n",
              " 20,\n",
              " 27,\n",
              " 47,\n",
              " 8,\n",
              " 48,\n",
              " 27,\n",
              " 8,\n",
              " 40,\n",
              " 8,\n",
              " 48,\n",
              " 30,\n",
              " 27,\n",
              " 41,\n",
              " 0,\n",
              " 19,\n",
              " 11,\n",
              " 39,\n",
              " 27,\n",
              " 32,\n",
              " 20,\n",
              " 27,\n",
              " 17,\n",
              " 34,\n",
              " 27,\n",
              " 8,\n",
              " 45,\n",
              " 11,\n",
              " 2,\n",
              " 2,\n",
              " 42,\n",
              " 53,\n",
              " 8,\n",
              " 51,\n",
              " 46,\n",
              " 3,\n",
              " 27,\n",
              " 26,\n",
              " 20,\n",
              " 12,\n",
              " 48,\n",
              " 5,\n",
              " 30,\n",
              " 27,\n",
              " 12,\n",
              " 8,\n",
              " 27,\n",
              " 20,\n",
              " 2,\n",
              " 34,\n",
              " 27,\n",
              " 11,\n",
              " 12,\n",
              " 27,\n",
              " 48,\n",
              " 11,\n",
              " 20,\n",
              " 35,\n",
              " 8,\n",
              " 30,\n",
              " 27,\n",
              " 48,\n",
              " 11,\n",
              " 27,\n",
              " 17,\n",
              " 34,\n",
              " 58,\n",
              " 42,\n",
              " 16,\n",
              " 34,\n",
              " 45,\n",
              " 42,\n",
              " 5,\n",
              " 12,\n",
              " 3,\n",
              " 27,\n",
              " 11,\n",
              " 12,\n",
              " 34,\n",
              " 27,\n",
              " 34,\n",
              " 11,\n",
              " 16,\n",
              " 39,\n",
              " 12,\n",
              " 16,\n",
              " 42,\n",
              " 45,\n",
              " 34,\n",
              " 27,\n",
              " 17,\n",
              " 34,\n",
              " 58,\n",
              " 42,\n",
              " 16,\n",
              " 34,\n",
              " 45,\n",
              " 42,\n",
              " 5,\n",
              " 12,\n",
              " 27,\n",
              " 17,\n",
              " 11,\n",
              " 32,\n",
              " 34,\n",
              " 12,\n",
              " 34,\n",
              " 3,\n",
              " 27,\n",
              " 48,\n",
              " 42,\n",
              " 27,\n",
              " 29,\n",
              " 21,\n",
              " 58,\n",
              " 42,\n",
              " 20,\n",
              " 12,\n",
              " 27,\n",
              " 34,\n",
              " 47,\n",
              " 50,\n",
              " 8,\n",
              " 27,\n",
              " 26,\n",
              " 20,\n",
              " 19,\n",
              " 11,\n",
              " 20,\n",
              " 35,\n",
              " 34,\n",
              " 3,\n",
              " 27,\n",
              " 26,\n",
              " 20,\n",
              " 2,\n",
              " 32,\n",
              " 34,\n",
              " 12,\n",
              " 20,\n",
              " 45,\n",
              " 55,\n",
              " 34,\n",
              " 27,\n",
              " 16,\n",
              " 2,\n",
              " 34,\n",
              " 12,\n",
              " 19,\n",
              " 11,\n",
              " 42,\n",
              " 47,\n",
              " 34,\n",
              " 27,\n",
              " 20,\n",
              " 12,\n",
              " 16,\n",
              " 2,\n",
              " 20,\n",
              " 27,\n",
              " 47,\n",
              " 34,\n",
              " 48,\n",
              " 27,\n",
              " 45,\n",
              " 11,\n",
              " 34,\n",
              " 16,\n",
              " 2,\n",
              " 8,\n",
              " 27,\n",
              " 26,\n",
              " 34,\n",
              " 2,\n",
              " 20,\n",
              " 53,\n",
              " 20,\n",
              " 48,\n",
              " 27,\n",
              " 17,\n",
              " 34,\n",
              " 2,\n",
              " 16,\n",
              " 8,\n",
              " 27,\n",
              " 29,\n",
              " 21,\n",
              " 45,\n",
              " 8,\n",
              " 12,\n",
              " 8,\n",
              " 45,\n",
              " 42,\n",
              " 53,\n",
              " 34,\n",
              " 48,\n",
              " 30,\n",
              " 27,\n",
              " 26,\n",
              " 8,\n",
              " 2,\n",
              " 27,\n",
              " 20,\n",
              " 12,\n",
              " 45,\n",
              " 42,\n",
              " 32,\n",
              " 34,\n",
              " 27,\n",
              " 53,\n",
              " 20,\n",
              " 27,\n",
              " 47,\n",
              " 34,\n",
              " 27,\n",
              " 32,\n",
              " 20,\n",
              " 48,\n",
              " 34,\n",
              " 3,\n",
              " 27,\n",
              " 48,\n",
              " 8,\n",
              " 58,\n",
              " 2,\n",
              " 20,\n",
              " 27,\n",
              " 47,\n",
              " 34,\n",
              " 27,\n",
              " 19,\n",
              " 11,\n",
              " 20,\n",
              " 27,\n",
              " 48,\n",
              " 20,\n",
              " 27,\n",
              " 20,\n",
              " 12,\n",
              " 45,\n",
              " 8,\n",
              " 12,\n",
              " 16,\n",
              " 2,\n",
              " 34,\n",
              " 58,\n",
              " 34,\n",
              " 27,\n",
              " 20,\n",
              " 43,\n",
              " 16,\n",
              " 20,\n",
              " 12,\n",
              " 53,\n",
              " 42,\n",
              " 53,\n",
              " 8,\n",
              " 27,\n",
              " 29,\n",
              " 21,\n",
              " 11,\n",
              " 12,\n",
              " 27,\n",
              " 32,\n",
              " 11,\n",
              " 20,\n",
              " 48,\n",
              " 16,\n",
              " 2,\n",
              " 34,\n",
              " 2,\n",
              " 42,\n",
              " 8,\n",
              " 27,\n",
              " 53,\n",
              " 20,\n",
              " 27,\n",
              " 26,\n",
              " 34,\n",
              " 35,\n",
              " 8,\n",
              " 48,\n",
              " 27,\n",
              " 53,\n",
              " 20,\n",
              " 48,\n",
              " 20,\n",
              " 32,\n",
              " 26,\n",
              " 34,\n",
              " 19,\n",
              " 11,\n",
              " 20,\n",
              " 16,\n",
              " 34,\n",
              " 53,\n",
              " 8,\n",
              " 48,\n",
              " 27,\n",
              " 24,\n",
              " 48,\n",
              " 34,\n",
              " 32,\n",
              " 48,\n",
              " 34,\n",
              " 27,\n",
              " 20,\n",
              " 2,\n",
              " 34,\n",
              " 27,\n",
              " 4,\n",
              " 42,\n",
              " 34,\n",
              " 40,\n",
              " 34,\n",
              " 12,\n",
              " 16,\n",
              " 20,\n",
              " 27,\n",
              " 53,\n",
              " 20,\n",
              " 27,\n",
              " 45,\n",
              " 8,\n",
              " 32,\n",
              " 20,\n",
              " 2,\n",
              " 45,\n",
              " 42,\n",
              " 8,\n",
              " 24,\n",
              " 3,\n",
              " 29,\n",
              " 21,\n",
              " 27,\n",
              " 20,\n",
              " 48,\n",
              " 16,\n",
              " 34,\n",
              " 58,\n",
              " 34,\n",
              " 27,\n",
              " 45,\n",
              " 8,\n",
              " 47,\n",
              " 50,\n",
              " 34,\n",
              " 53,\n",
              " 8,\n",
              " 27,\n",
              " 34,\n",
              " 19,\n",
              " 11,\n",
              " 20,\n",
              " 47,\n",
              " 27,\n",
              " 45,\n",
              " 11,\n",
              " 34,\n",
              " 53,\n",
              " 2,\n",
              " 8,\n",
              " 27,\n",
              " 19,\n",
              " 11,\n",
              " 20,\n",
              " 27,\n",
              " 17,\n",
              " 34,\n",
              " 45,\n",
              " 55,\n",
              " 34,\n",
              " 27,\n",
              " 26,\n",
              " 8,\n",
              " 45,\n",
              " 8,\n",
              " 27,\n",
              " 17,\n",
              " 34,\n",
              " 58,\n",
              " 55,\n",
              " 34,\n",
              " 27,\n",
              " 2,\n",
              " 20,\n",
              " 45,\n",
              " 8,\n",
              " 2,\n",
              " 16,\n",
              " 34,\n",
              " 53,\n",
              " 8,\n",
              " 27,\n",
              " 53,\n",
              " 20,\n",
              " 27,\n",
              " 11,\n",
              " 12,\n",
              " 34,\n",
              " 27,\n",
              " 29,\n",
              " 21,\n",
              " 2,\n",
              " 20,\n",
              " 4,\n",
              " 42,\n",
              " 48,\n",
              " 16,\n",
              " 34,\n",
              " 27,\n",
              " 28,\n",
              " 27,\n",
              " 17,\n",
              " 34,\n",
              " 58,\n",
              " 55,\n",
              " 34,\n",
              " 27,\n",
              " 45,\n",
              " 8,\n",
              " 47,\n",
              " 8,\n",
              " 45,\n",
              " 34,\n",
              " 53,\n",
              " 8,\n",
              " 27,\n",
              " 20,\n",
              " 12,\n",
              " 27,\n",
              " 11,\n",
              " 12,\n",
              " 27,\n",
              " 58,\n",
              " 8,\n",
              " 12,\n",
              " 42,\n",
              " 16,\n",
              " 8,\n",
              " 27,\n",
              " 32,\n",
              " 34,\n",
              " 2,\n",
              " 45,\n",
              " 8,\n",
              " 27,\n",
              " 53,\n",
              " 8,\n",
              " 2,\n",
              " 34,\n",
              " 53,\n",
              " 8,\n",
              " 30,\n",
              " 27,\n",
              " 2,\n",
              " 20,\n",
              " 26,\n",
              " 2,\n",
              " 20,\n",
              " 48,\n",
              " 20,\n",
              " 12,\n",
              " 16]"
            ]
          },
          "metadata": {},
          "execution_count": 11
        }
      ],
      "source": [
        "tokenized_text[:1000]"
      ]
    },
    {
      "cell_type": "markdown",
      "metadata": {
        "id": "pfpYcaypKcI9"
      },
      "source": [
        "### Organizando y estructurando el dataset"
      ]
    },
    {
      "cell_type": "code",
      "execution_count": 12,
      "metadata": {
        "id": "WSSmg9jtKP0T"
      },
      "outputs": [],
      "source": [
        "# separaremos el dataset entre entrenamiento y validación.\n",
        "# `p_val` será la proporción del corpus que se reservará para validación\n",
        "# `num_val` es la cantidad de secuencias de tamaño `max_context_size` que se usará en validación\n",
        "p_val = 0.1\n",
        "num_val = int(np.ceil(len(tokenized_text)*p_val/max_context_size))"
      ]
    },
    {
      "cell_type": "code",
      "execution_count": 13,
      "metadata": {
        "id": "b7dCpGrdKll0"
      },
      "outputs": [],
      "source": [
        "# separamos la porción de texto utilizada en entrenamiento de la de validación.\n",
        "train_text = tokenized_text[:-num_val*max_context_size]\n",
        "val_text = tokenized_text[-num_val*max_context_size:]"
      ]
    },
    {
      "cell_type": "code",
      "execution_count": 14,
      "metadata": {
        "id": "NmxQdxl8LRCg"
      },
      "outputs": [],
      "source": [
        "tokenized_sentences_val = [val_text[init*max_context_size:init*(max_context_size+1)] for init in range(num_val)]"
      ]
    },
    {
      "cell_type": "code",
      "execution_count": 15,
      "metadata": {
        "id": "_gyFT9koLqDm"
      },
      "outputs": [],
      "source": [
        "tokenized_sentences_train = [train_text[init:init+max_context_size] for init in range(len(train_text)-max_context_size+1)]"
      ]
    },
    {
      "cell_type": "code",
      "execution_count": 16,
      "metadata": {
        "id": "oVNqmmLRodT0"
      },
      "outputs": [],
      "source": [
        "X = np.array(tokenized_sentences_train[:-1])\n",
        "y = np.array(tokenized_sentences_train[1:])"
      ]
    },
    {
      "cell_type": "markdown",
      "metadata": {
        "id": "Vken7O4ETsAJ"
      },
      "source": [
        "Nótese que estamos estructurando el problema de aprendizaje como *many-to-many*:\n",
        "\n",
        "Entrada: secuencia de tokens [$x_0$, $x_1$, ..., $x_N$]\n",
        "\n",
        "Target: secuencia de tokens [$x_1$, $x_2$, ..., $x_{N+1}$]\n",
        "\n",
        "De manera que la red tiene que aprender que su salida deben ser los tokens desplazados en una posición y un nuevo token predicho (el N+1).\n",
        "\n",
        "La ventaja de estructurar el aprendizaje de esta manera es que para cada token de target se propaga una señal de gradiente por el grafo de cómputo recurrente, que es mejor que estructurar el problema como *many-to-one* en donde sólo una señal de gradiente se propaga."
      ]
    },
    {
      "cell_type": "markdown",
      "metadata": {
        "id": "l3iPTx-UJl6r"
      },
      "source": [
        "En este punto tenemos en la variable `tokenized_sentences` los versos tokenizados. Vamos a quedarnos con un conjunto de validación que utilizaremos para medir la calidad de la generación de secuencias con la métrica de Perplejidad."
      ]
    },
    {
      "cell_type": "code",
      "execution_count": 17,
      "metadata": {
        "id": "KFAyA4zCWE-5",
        "colab": {
          "base_uri": "https://localhost:8080/"
        },
        "outputId": "c030d8c2-807f-4e0d-dcda-e98fc32bce3f"
      },
      "outputs": [
        {
          "output_type": "execute_result",
          "data": {
            "text/plain": [
              "(112059, 100)"
            ]
          },
          "metadata": {},
          "execution_count": 17
        }
      ],
      "source": [
        "X.shape"
      ]
    },
    {
      "cell_type": "code",
      "execution_count": 18,
      "metadata": {
        "id": "qcKRl70HFTzG",
        "colab": {
          "base_uri": "https://localhost:8080/"
        },
        "outputId": "25fc40df-2116-4cdf-c1c4-c993bbce3228"
      },
      "outputs": [
        {
          "output_type": "execute_result",
          "data": {
            "text/plain": [
              "array([27, 45, 11, 34, 12, 53,  8, 27, 50,  2])"
            ]
          },
          "metadata": {},
          "execution_count": 18
        }
      ],
      "source": [
        "X[0,:10]"
      ]
    },
    {
      "cell_type": "code",
      "execution_count": 19,
      "metadata": {
        "id": "TVpLCKSZFXZO",
        "colab": {
          "base_uri": "https://localhost:8080/"
        },
        "outputId": "52aa6bc4-4ec2-45bc-d6c6-78aaf060c454"
      },
      "outputs": [
        {
          "output_type": "execute_result",
          "data": {
            "text/plain": [
              "array([45, 11, 34, 12, 53,  8, 27, 50,  2, 20])"
            ]
          },
          "metadata": {},
          "execution_count": 19
        }
      ],
      "source": [
        "y[0,:10]"
      ]
    },
    {
      "cell_type": "code",
      "execution_count": 20,
      "metadata": {
        "id": "wOFCR-KqbW1N"
      },
      "outputs": [],
      "source": [
        "vocab_size = len(chars_vocab)"
      ]
    },
    {
      "cell_type": "markdown",
      "metadata": {
        "id": "tnnjdAQ5UAEJ"
      },
      "source": [
        "# Definiendo el modelo"
      ]
    },
    {
      "cell_type": "code",
      "execution_count": 21,
      "metadata": {
        "id": "rkMCZvmhrQz4"
      },
      "outputs": [],
      "source": [
        "from keras.layers import Input, TimeDistributed, CategoryEncoding, SimpleRNN, Dense\n",
        "from keras.models import Model, Sequential"
      ]
    },
    {
      "cell_type": "markdown",
      "metadata": {
        "id": "wgz7VKwTUbj6"
      },
      "source": [
        "El modelo que se propone como ejemplo consume los índices de los tokens y los transforma en vectores OHE (en este caso no entrenamos una capa de embedding para caracteres). Esa transformación se logra combinando las capas `CategoryEncoding` que transforma a índices a vectores OHE y `TimeDistributed` que aplica la capa a lo largo de la dimensión \"temporal\" de la secuencia."
      ]
    },
    {
      "cell_type": "code",
      "execution_count": 45,
      "metadata": {
        "id": "Zd2OkfQYs2Q7",
        "colab": {
          "base_uri": "https://localhost:8080/",
          "height": 230
        },
        "outputId": "31e05017-e90d-4616-bfb7-1206832189b6"
      },
      "outputs": [
        {
          "output_type": "display_data",
          "data": {
            "text/plain": [
              "\u001b[1mModel: \"sequential_2\"\u001b[0m\n"
            ],
            "text/html": [
              "<pre style=\"white-space:pre;overflow-x:auto;line-height:normal;font-family:Menlo,'DejaVu Sans Mono',consolas,'Courier New',monospace\"><span style=\"font-weight: bold\">Model: \"sequential_2\"</span>\n",
              "</pre>\n"
            ]
          },
          "metadata": {}
        },
        {
          "output_type": "display_data",
          "data": {
            "text/plain": [
              "┏━━━━━━━━━━━━━━━━━━━━━━━━━━━━━━━━━━━━━━┳━━━━━━━━━━━━━━━━━━━━━━━━━━━━━┳━━━━━━━━━━━━━━━━━┓\n",
              "┃\u001b[1m \u001b[0m\u001b[1mLayer (type)                        \u001b[0m\u001b[1m \u001b[0m┃\u001b[1m \u001b[0m\u001b[1mOutput Shape               \u001b[0m\u001b[1m \u001b[0m┃\u001b[1m \u001b[0m\u001b[1m        Param #\u001b[0m\u001b[1m \u001b[0m┃\n",
              "┡━━━━━━━━━━━━━━━━━━━━━━━━━━━━━━━━━━━━━━╇━━━━━━━━━━━━━━━━━━━━━━━━━━━━━╇━━━━━━━━━━━━━━━━━┩\n",
              "│ time_distributed_2 (\u001b[38;5;33mTimeDistributed\u001b[0m) │ (\u001b[38;5;45mNone\u001b[0m, \u001b[38;5;45mNone\u001b[0m, \u001b[38;5;34m59\u001b[0m)            │               \u001b[38;5;34m0\u001b[0m │\n",
              "├──────────────────────────────────────┼─────────────────────────────┼─────────────────┤\n",
              "│ simple_rnn_2 (\u001b[38;5;33mSimpleRNN\u001b[0m)             │ (\u001b[38;5;45mNone\u001b[0m, \u001b[38;5;45mNone\u001b[0m, \u001b[38;5;34m200\u001b[0m)           │          \u001b[38;5;34m52,000\u001b[0m │\n",
              "├──────────────────────────────────────┼─────────────────────────────┼─────────────────┤\n",
              "│ dense_2 (\u001b[38;5;33mDense\u001b[0m)                      │ (\u001b[38;5;45mNone\u001b[0m, \u001b[38;5;45mNone\u001b[0m, \u001b[38;5;34m59\u001b[0m)            │          \u001b[38;5;34m11,859\u001b[0m │\n",
              "└──────────────────────────────────────┴─────────────────────────────┴─────────────────┘\n"
            ],
            "text/html": [
              "<pre style=\"white-space:pre;overflow-x:auto;line-height:normal;font-family:Menlo,'DejaVu Sans Mono',consolas,'Courier New',monospace\">┏━━━━━━━━━━━━━━━━━━━━━━━━━━━━━━━━━━━━━━┳━━━━━━━━━━━━━━━━━━━━━━━━━━━━━┳━━━━━━━━━━━━━━━━━┓\n",
              "┃<span style=\"font-weight: bold\"> Layer (type)                         </span>┃<span style=\"font-weight: bold\"> Output Shape                </span>┃<span style=\"font-weight: bold\">         Param # </span>┃\n",
              "┡━━━━━━━━━━━━━━━━━━━━━━━━━━━━━━━━━━━━━━╇━━━━━━━━━━━━━━━━━━━━━━━━━━━━━╇━━━━━━━━━━━━━━━━━┩\n",
              "│ time_distributed_2 (<span style=\"color: #0087ff; text-decoration-color: #0087ff\">TimeDistributed</span>) │ (<span style=\"color: #00d7ff; text-decoration-color: #00d7ff\">None</span>, <span style=\"color: #00d7ff; text-decoration-color: #00d7ff\">None</span>, <span style=\"color: #00af00; text-decoration-color: #00af00\">59</span>)            │               <span style=\"color: #00af00; text-decoration-color: #00af00\">0</span> │\n",
              "├──────────────────────────────────────┼─────────────────────────────┼─────────────────┤\n",
              "│ simple_rnn_2 (<span style=\"color: #0087ff; text-decoration-color: #0087ff\">SimpleRNN</span>)             │ (<span style=\"color: #00d7ff; text-decoration-color: #00d7ff\">None</span>, <span style=\"color: #00d7ff; text-decoration-color: #00d7ff\">None</span>, <span style=\"color: #00af00; text-decoration-color: #00af00\">200</span>)           │          <span style=\"color: #00af00; text-decoration-color: #00af00\">52,000</span> │\n",
              "├──────────────────────────────────────┼─────────────────────────────┼─────────────────┤\n",
              "│ dense_2 (<span style=\"color: #0087ff; text-decoration-color: #0087ff\">Dense</span>)                      │ (<span style=\"color: #00d7ff; text-decoration-color: #00d7ff\">None</span>, <span style=\"color: #00d7ff; text-decoration-color: #00d7ff\">None</span>, <span style=\"color: #00af00; text-decoration-color: #00af00\">59</span>)            │          <span style=\"color: #00af00; text-decoration-color: #00af00\">11,859</span> │\n",
              "└──────────────────────────────────────┴─────────────────────────────┴─────────────────┘\n",
              "</pre>\n"
            ]
          },
          "metadata": {}
        },
        {
          "output_type": "display_data",
          "data": {
            "text/plain": [
              "\u001b[1m Total params: \u001b[0m\u001b[38;5;34m63,859\u001b[0m (249.45 KB)\n"
            ],
            "text/html": [
              "<pre style=\"white-space:pre;overflow-x:auto;line-height:normal;font-family:Menlo,'DejaVu Sans Mono',consolas,'Courier New',monospace\"><span style=\"font-weight: bold\"> Total params: </span><span style=\"color: #00af00; text-decoration-color: #00af00\">63,859</span> (249.45 KB)\n",
              "</pre>\n"
            ]
          },
          "metadata": {}
        },
        {
          "output_type": "display_data",
          "data": {
            "text/plain": [
              "\u001b[1m Trainable params: \u001b[0m\u001b[38;5;34m63,859\u001b[0m (249.45 KB)\n"
            ],
            "text/html": [
              "<pre style=\"white-space:pre;overflow-x:auto;line-height:normal;font-family:Menlo,'DejaVu Sans Mono',consolas,'Courier New',monospace\"><span style=\"font-weight: bold\"> Trainable params: </span><span style=\"color: #00af00; text-decoration-color: #00af00\">63,859</span> (249.45 KB)\n",
              "</pre>\n"
            ]
          },
          "metadata": {}
        },
        {
          "output_type": "display_data",
          "data": {
            "text/plain": [
              "\u001b[1m Non-trainable params: \u001b[0m\u001b[38;5;34m0\u001b[0m (0.00 B)\n"
            ],
            "text/html": [
              "<pre style=\"white-space:pre;overflow-x:auto;line-height:normal;font-family:Menlo,'DejaVu Sans Mono',consolas,'Courier New',monospace\"><span style=\"font-weight: bold\"> Non-trainable params: </span><span style=\"color: #00af00; text-decoration-color: #00af00\">0</span> (0.00 B)\n",
              "</pre>\n"
            ]
          },
          "metadata": {}
        }
      ],
      "source": [
        "model = Sequential()\n",
        "\n",
        "model.add(TimeDistributed(CategoryEncoding(num_tokens=vocab_size, output_mode = \"one_hot\"),input_shape=(None,1)))\n",
        "model.add(SimpleRNN(200, return_sequences=True, dropout=0.1, recurrent_dropout=0.1 ))\n",
        "model.add(Dense(vocab_size, activation='softmax'))\n",
        "model.compile(loss='sparse_categorical_crossentropy', optimizer='rmsprop')\n",
        "\n",
        "model.summary()"
      ]
    },
    {
      "cell_type": "markdown",
      "metadata": {
        "id": "GmJWNyxQwfCE"
      },
      "source": [
        "\n",
        "### Definir el modelo"
      ]
    },
    {
      "cell_type": "markdown",
      "metadata": {
        "id": "YWK3z85sQfUe"
      },
      "source": [
        "Dado que por el momento no hay implementaciones adecuadas de la perplejidad que puedan operar en tiempo de entrenamiento, armaremos un Callback *ad-hoc* que la calcule en cada epoch.\n",
        "\n",
        "**Nota**: un Callback es una rutina gatillada por algún evento, son muy útiles para relevar datos en diferentes momentos del desarrollo del modelo. En este caso queremos hacer un cálculo cada vez que termina una epoch de entrenamiento."
      ]
    },
    {
      "cell_type": "code",
      "execution_count": 46,
      "metadata": {
        "id": "zUHX3r5JD-MG"
      },
      "outputs": [],
      "source": [
        "class PplCallback(keras.callbacks.Callback):\n",
        "\n",
        "    '''\n",
        "    Este callback es una solución ad-hoc para calcular al final de cada epoch de\n",
        "    entrenamiento la métrica de Perplejidad sobre un conjunto de datos de validación.\n",
        "    La perplejidad es una métrica cuantitativa para evaluar la calidad de la generación de secuencias.\n",
        "    Además implementa la finalización del entrenamiento (Early Stopping)\n",
        "    si la perplejidad no mejora después de `patience` epochs.\n",
        "    '''\n",
        "\n",
        "    def __init__(self, val_data, history_ppl,patience=5):\n",
        "      # El callback lo inicializamos con secuencias de validación sobre las cuales\n",
        "      # mediremos la perplejidad\n",
        "      self.val_data = val_data\n",
        "\n",
        "      self.target = []\n",
        "      self.padded = []\n",
        "\n",
        "      count = 0\n",
        "      self.info = []\n",
        "      self.min_score = np.inf\n",
        "      self.patience_counter = 0\n",
        "      self.patience = patience\n",
        "\n",
        "      # nos movemos en todas las secuencias de los datos de validación\n",
        "      for seq in self.val_data:\n",
        "\n",
        "        len_seq = len(seq)\n",
        "        # armamos todas las subsecuencias\n",
        "        subseq = [seq[:i] for i in range(1,len_seq)]\n",
        "        self.target.extend([seq[i] for i in range(1,len_seq)])\n",
        "\n",
        "        if len(subseq)!=0:\n",
        "\n",
        "          self.padded.append(pad_sequences(subseq, maxlen=max_context_size, padding='pre'))\n",
        "\n",
        "          self.info.append((count,count+len_seq))\n",
        "          count += len_seq\n",
        "\n",
        "      self.padded = np.vstack(self.padded)\n",
        "\n",
        "\n",
        "    def on_epoch_end(self, epoch, logs=None):\n",
        "\n",
        "        # en `scores` iremos guardando la perplejidad de cada secuencia\n",
        "        scores = []\n",
        "\n",
        "        predictions = self.model.predict(self.padded,verbose=0)\n",
        "\n",
        "        # para cada secuencia de validación\n",
        "        for start,end in self.info:\n",
        "\n",
        "          # en `probs` iremos guardando las probabilidades de los términos target\n",
        "          probs = [predictions[idx_seq,-1,idx_vocab] for idx_seq, idx_vocab in zip(range(start,end),self.target[start:end])]\n",
        "\n",
        "          # calculamos la perplejidad por medio de logaritmos\n",
        "          scores.append(np.exp(-np.sum(np.log(probs))/(end-start)))\n",
        "\n",
        "        # promediamos todos los scores e imprimimos el valor promedio\n",
        "        current_score = np.mean(scores)\n",
        "        history_ppl.append(current_score)\n",
        "        print(f'\\n mean perplexity: {current_score} \\n')\n",
        "\n",
        "        # chequeamos si tenemos que detener el entrenamiento\n",
        "        if current_score < self.min_score:\n",
        "          self.min_score = current_score\n",
        "          self.model.save(\"my_model.h5\")\n",
        "          print(\"Saved new model!\")\n",
        "          self.patience_counter = 0\n",
        "        else:\n",
        "          self.patience_counter += 1\n",
        "          if self.patience_counter == self.patience:\n",
        "            print(\"Stopping training...\")\n",
        "            self.model.stop_training = True\n"
      ]
    },
    {
      "cell_type": "markdown",
      "metadata": {
        "id": "8HBZIwR0gruA"
      },
      "source": [
        "### Entrenamiento"
      ]
    },
    {
      "cell_type": "code",
      "execution_count": 48,
      "metadata": {
        "id": "oQq1PHDkxDvN",
        "colab": {
          "base_uri": "https://localhost:8080/"
        },
        "outputId": "8ed0e37c-4912-4a50-c723-6793cf82f664"
      },
      "outputs": [
        {
          "output_type": "stream",
          "name": "stdout",
          "text": [
            "Epoch 1/2\n",
            "\u001b[1m1751/1751\u001b[0m \u001b[32m━━━━━━━━━━━━━━━━━━━━\u001b[0m\u001b[37m\u001b[0m \u001b[1m0s\u001b[0m 167ms/step - loss: 1.4890"
          ]
        },
        {
          "output_type": "stream",
          "name": "stderr",
          "text": [
            "WARNING:absl:You are saving your model as an HDF5 file via `model.save()` or `keras.saving.save_model(model)`. This file format is considered legacy. We recommend using instead the native Keras format, e.g. `model.save('my_model.keras')` or `keras.saving.save_model(model, 'my_model.keras')`. \n"
          ]
        },
        {
          "output_type": "stream",
          "name": "stdout",
          "text": [
            "\n",
            " mean perplexity: 7.063950469525033 \n",
            "\n",
            "Saved new model!\n",
            "\b\b\b\b\b\b\b\b\b\b\b\b\b\b\b\b\b\b\b\b\b\b\b\b\b\b\b\b\b\b\b\b\b\b\b\b\b\b\b\b\b\b\b\b\b\b\b\b\b\b\b\b\b\b\b\b\b\b\b\r\u001b[1m1751/1751\u001b[0m \u001b[32m━━━━━━━━━━━━━━━━━━━━\u001b[0m\u001b[37m\u001b[0m \u001b[1m302s\u001b[0m 173ms/step - loss: 1.4890\n",
            "Epoch 2/2\n",
            "\u001b[1m1751/1751\u001b[0m \u001b[32m━━━━━━━━━━━━━━━━━━━━\u001b[0m\u001b[37m\u001b[0m \u001b[1m0s\u001b[0m 163ms/step - loss: 1.4786\n",
            " mean perplexity: 7.208518477223645 \n",
            "\n",
            "\u001b[1m1751/1751\u001b[0m \u001b[32m━━━━━━━━━━━━━━━━━━━━\u001b[0m\u001b[37m\u001b[0m \u001b[1m293s\u001b[0m 167ms/step - loss: 1.4786\n"
          ]
        }
      ],
      "source": [
        "# fiteamos, nótese el agregado del callback con su inicialización. El batch_size lo podemos seleccionar a mano\n",
        "# en general, lo mejor es escoger el batch más grande posible que minimice el tiempo de cada época.\n",
        "# En la variable `history_ppl` se guardarán los valores de perplejidad para cada época.\n",
        "history_ppl = []\n",
        "hist = model.fit(X, y, epochs=2, callbacks=[PplCallback(tokenized_sentences_val,history_ppl)], batch_size=64)"
      ]
    },
    {
      "cell_type": "code",
      "execution_count": 49,
      "metadata": {
        "id": "K30JHB3Dv-mx",
        "colab": {
          "base_uri": "https://localhost:8080/",
          "height": 430
        },
        "outputId": "106f4cf5-56fc-4afb-95ad-cbec22c03bba"
      },
      "outputs": [
        {
          "output_type": "display_data",
          "data": {
            "text/plain": [
              "<Figure size 640x480 with 1 Axes>"
            ],
            "image/png": "[encoded data removed]"
          },
          "metadata": {}
        }
      ],
      "source": [
        "import matplotlib.pyplot as plt\n",
        "import seaborn as sns\n",
        "\n",
        "# Entrenamiento\n",
        "epoch_count = range(1, len(history_ppl) + 1)\n",
        "sns.lineplot(x=epoch_count,  y=history_ppl)\n",
        "plt.show()"
      ]
    },
    {
      "cell_type": "code",
      "execution_count": 50,
      "metadata": {
        "id": "Rhy5hZN38qfO",
        "colab": {
          "base_uri": "https://localhost:8080/"
        },
        "outputId": "4c8fd5df-1784-440d-e78f-01ad5009a75a"
      },
      "outputs": [
        {
          "output_type": "stream",
          "name": "stderr",
          "text": [
            "WARNING:absl:Compiled the loaded model, but the compiled metrics have yet to be built. `model.compile_metrics` will be empty until you train or evaluate the model.\n"
          ]
        }
      ],
      "source": [
        "# Cargamos el mejor modelo guardado del entrenamiento para hacer inferencia\n",
        "model = keras.models.load_model('my_model.h5')"
      ]
    },
    {
      "cell_type": "markdown",
      "metadata": {
        "id": "KN6Fg_BsxJe6"
      },
      "source": [
        "\n",
        "### Predicción del próximo caracter"
      ]
    },
    {
      "cell_type": "code",
      "execution_count": 51,
      "metadata": {
        "id": "IBvKHFPmzpy2"
      },
      "outputs": [],
      "source": [
        "# Se puede usar gradio para probar el modelo\n",
        "# Gradio es una herramienta muy útil para crear interfaces para ensayar modelos\n",
        "# https://gradio.app/\n",
        "\n",
        "!pip install -q gradio"
      ]
    },
    {
      "cell_type": "code",
      "execution_count": 52,
      "metadata": {
        "id": "HNyBykvhzs7-"
      },
      "outputs": [],
      "source": [
        "import gradio as gr\n",
        "\n",
        "def model_response(human_text):\n",
        "\n",
        "    # Encodeamos\n",
        "    encoded = [char2idx[ch] for ch in human_text.lower() ]\n",
        "    # Si tienen distinto largo\n",
        "    encoded = pad_sequences([encoded], maxlen=max_context_size, padding='pre')\n",
        "\n",
        "    # Predicción softmax\n",
        "    y_hat = np.argmax(model.predict(encoded)[0,-1,:])\n",
        "\n",
        "\n",
        "    # Debemos buscar en el vocabulario el caracter\n",
        "    # que corresopnde al indice (y_hat) predicho por le modelo\n",
        "    out_word = ''\n",
        "    out_word = idx2char[y_hat]\n",
        "\n",
        "    # Agrego la palabra a la frase predicha\n",
        "    return human_text + out_word\n",
        "\n"
      ]
    },
    {
      "cell_type": "code",
      "source": [
        "iface = gr.Interface(\n",
        "    fn=model_response,\n",
        "    inputs=[\"textbox\"],\n",
        "    outputs=\"text\")\n",
        "\n",
        "iface.launch(debug=True)"
      ],
      "metadata": {
        "colab": {
          "base_uri": "https://localhost:8080/",
          "height": 723
        },
        "id": "pXKhRUEXcnF5",
        "outputId": "d2d9da1f-3c66-4aee-f807-e598646a9308"
      },
      "execution_count": 53,
      "outputs": [
        {
          "output_type": "stream",
          "name": "stdout",
          "text": [
            "Setting queue=True in a Colab notebook requires sharing enabled. Setting `share=True` (you can turn this off by setting `share=False` in `launch()` explicitly).\n",
            "\n",
            "Colab notebook detected. This cell will run indefinitely so that you can see errors and logs. To turn off, set debug=False in launch().\n",
            "Running on public URL: https://722116df9701c9edb2.gradio.live\n",
            "\n",
            "This share link expires in 72 hours. For free permanent hosting and GPU upgrades, run `gradio deploy` from Terminal to deploy to Spaces (https://huggingface.co/spaces)\n"
          ]
        },
        {
          "output_type": "display_data",
          "data": {
            "text/plain": [
              "<IPython.core.display.HTML object>"
            ],
            "text/html": [
              "<div><iframe src=\"https://722116df9701c9edb2.gradio.live\" width=\"100%\" height=\"500\" allow=\"autoplay; camera; microphone; clipboard-read; clipboard-write;\" frameborder=\"0\" allowfullscreen></iframe></div>"
            ]
          },
          "metadata": {}
        },
        {
          "output_type": "stream",
          "name": "stdout",
          "text": [
            "\u001b[1m1/1\u001b[0m \u001b[32m━━━━━━━━━━━━━━━━━━━━\u001b[0m\u001b[37m\u001b[0m \u001b[1m1s\u001b[0m 1s/step\n",
            "\u001b[1m1/1\u001b[0m \u001b[32m━━━━━━━━━━━━━━━━━━━━\u001b[0m\u001b[37m\u001b[0m \u001b[1m0s\u001b[0m 69ms/step\n",
            "Keyboard interruption in main thread... closing server.\n",
            "Killing tunnel 127.0.0.1:7860 <> https://722116df9701c9edb2.gradio.live\n"
          ]
        },
        {
          "output_type": "execute_result",
          "data": {
            "text/plain": []
          },
          "metadata": {},
          "execution_count": 53
        }
      ]
    },
    {
      "cell_type": "markdown",
      "metadata": {
        "id": "mCeMWWupxN1-"
      },
      "source": [
        "### Generación de secuencias"
      ]
    },
    {
      "cell_type": "code",
      "execution_count": 55,
      "metadata": {
        "id": "bwbS_pfhxvB3"
      },
      "outputs": [],
      "source": [
        "def generate_seq(model, seed_text, max_length, n_words):\n",
        "    \"\"\"\n",
        "        Exec model sequence prediction\n",
        "\n",
        "        Args:\n",
        "            model (keras): modelo entrenado\n",
        "            seed_text (string): texto de entrada (input_seq)\n",
        "            max_length (int): máxima longitud de la sequencia de entrada\n",
        "            n_words (int): números de caracteres a agregar a la sequencia de entrada\n",
        "        returns:\n",
        "            output_text (string): sentencia con las \"n_words\" agregadas\n",
        "    \"\"\"\n",
        "    output_text = seed_text\n",
        "\t# generate a fixed number of words\n",
        "    for _ in range(n_words):\n",
        "\t\t# Encodeamos\n",
        "        encoded = [char2idx[ch] for ch in output_text.lower() ]\n",
        "\t\t# Si tienen distinto largo\n",
        "        encoded = pad_sequences([encoded], maxlen=max_length, padding='pre')\n",
        "\n",
        "\t\t# Predicción softmax\n",
        "        y_hat = np.argmax(model.predict(encoded,verbose=0)[0,-1,:])\n",
        "\t\t# Vamos concatenando las predicciones\n",
        "        out_word = ''\n",
        "\n",
        "        out_word = idx2char[y_hat]\n",
        "\n",
        "\t\t# Agrego las palabras a la frase predicha\n",
        "        output_text += out_word\n",
        "    return output_text"
      ]
    },
    {
      "cell_type": "code",
      "execution_count": 56,
      "metadata": {
        "id": "JoFqRC5pxzqS",
        "colab": {
          "base_uri": "https://localhost:8080/",
          "height": 36
        },
        "outputId": "58844be2-9556-4629-9e60-d4ac7ee17cf5"
      },
      "outputs": [
        {
          "output_type": "execute_result",
          "data": {
            "text/plain": [
              "'habia una vez en la cabeza con el \\r\\ncama en'"
            ],
            "application/vnd.google.colaboratory.intrinsic+json": {
              "type": "string"
            }
          },
          "metadata": {},
          "execution_count": 56
        }
      ],
      "source": [
        "input_text='habia una vez'\n",
        "\n",
        "generate_seq(model, input_text, max_length=max_context_size, n_words=30)"
      ]
    },
    {
      "cell_type": "markdown",
      "metadata": {
        "id": "drJ6xn5qW1Hl"
      },
      "source": [
        "###  Beam search y muestreo aleatorio"
      ]
    },
    {
      "cell_type": "code",
      "execution_count": 57,
      "metadata": {
        "id": "_vovn9XZW1Hl"
      },
      "outputs": [],
      "source": [
        "# funcionalidades para hacer encoding y decoding\n",
        "\n",
        "def encode(text,max_length=max_context_size):\n",
        "\n",
        "    encoded = [char2idx[ch] for ch in text]\n",
        "    encoded = pad_sequences([encoded], maxlen=max_length, padding='pre')\n",
        "\n",
        "    return encoded\n",
        "\n",
        "def decode(seq):\n",
        "    return ''.join([idx2char[ch] for ch in seq])"
      ]
    },
    {
      "cell_type": "code",
      "execution_count": 58,
      "metadata": {
        "id": "I_lZiQwkW1Hl"
      },
      "outputs": [],
      "source": [
        "from scipy.special import softmax\n",
        "\n",
        "# función que selecciona candidatos para el beam search\n",
        "def select_candidates(pred,num_beams,vocab_size,history_probs,history_tokens,temp,mode):\n",
        "\n",
        "  # colectar todas las probabilidades para la siguiente búsqueda\n",
        "  pred_large = []\n",
        "\n",
        "  for idx,pp in enumerate(pred):\n",
        "    pred_large.extend(np.log(pp+1E-10)+history_probs[idx])\n",
        "\n",
        "  pred_large = np.array(pred_large)\n",
        "\n",
        "  # criterio de selección\n",
        "  if mode == 'det':\n",
        "    idx_select = np.argsort(pred_large)[::-1][:num_beams] # beam search determinista\n",
        "  elif mode == 'sto':\n",
        "    idx_select = np.random.choice(np.arange(pred_large.shape[0]), num_beams, p=softmax(pred_large/temp)) # beam search con muestreo aleatorio\n",
        "  else:\n",
        "    raise ValueError(f'Wrong selection mode. {mode} was given. det and sto are supported.')\n",
        "\n",
        "  # traducir a índices de token en el vocabulario\n",
        "  new_history_tokens = np.concatenate((np.array(history_tokens)[idx_select//vocab_size],\n",
        "                        np.array([idx_select%vocab_size]).T),\n",
        "                      axis=1)\n",
        "\n",
        "  # devolver el producto de las probabilidades (log) y la secuencia de tokens seleccionados\n",
        "  return pred_large[idx_select.astype(int)], new_history_tokens.astype(int)\n",
        "\n",
        "\n",
        "def beam_search(model,num_beams,num_words,input,temp=1,mode='det'):\n",
        "\n",
        "    # first iteration\n",
        "\n",
        "    # encode\n",
        "    encoded = encode(input)\n",
        "\n",
        "    # first prediction\n",
        "    y_hat = model.predict(encoded,verbose=0)[0,-1,:]\n",
        "\n",
        "    # get vocabulary size\n",
        "    vocab_size = y_hat.shape[0]\n",
        "\n",
        "    # initialize history\n",
        "    history_probs = [0]*num_beams\n",
        "    history_tokens = [encoded[0]]*num_beams\n",
        "\n",
        "    # select num_beams candidates\n",
        "    history_probs, history_tokens = select_candidates([y_hat],\n",
        "                                        num_beams,\n",
        "                                        vocab_size,\n",
        "                                        history_probs,\n",
        "                                        history_tokens,\n",
        "                                        temp,\n",
        "                                        mode)\n",
        "\n",
        "    # beam search loop\n",
        "    for i in range(num_words-1):\n",
        "\n",
        "      preds = []\n",
        "\n",
        "      for hist in history_tokens:\n",
        "\n",
        "        # actualizar secuencia de tokens\n",
        "        input_update = np.array([hist[i+1:]]).copy()\n",
        "\n",
        "        # predicción\n",
        "        y_hat = model.predict(input_update,verbose=0)[0,-1,:]\n",
        "\n",
        "        preds.append(y_hat)\n",
        "\n",
        "      history_probs, history_tokens = select_candidates(preds,\n",
        "                                                        num_beams,\n",
        "                                                        vocab_size,\n",
        "                                                        history_probs,\n",
        "                                                        history_tokens,\n",
        "                                                        temp,\n",
        "                                                        mode)\n",
        "\n",
        "    return history_tokens[:,-(len(input)+num_words):]"
      ]
    },
    {
      "cell_type": "code",
      "execution_count": 59,
      "metadata": {
        "id": "GeLqAoOYW1Hm"
      },
      "outputs": [],
      "source": [
        "# predicción con beam search\n",
        "salidas = beam_search(model,num_beams=10,num_words=20,input=\"habia una vez\")"
      ]
    },
    {
      "cell_type": "code",
      "execution_count": 60,
      "metadata": {
        "id": "P8HQoLhw-NYg",
        "colab": {
          "base_uri": "https://localhost:8080/"
        },
        "outputId": "ca212d33-7749-42de-dd94-67ff16669f86"
      },
      "outputs": [
        {
          "output_type": "execute_result",
          "data": {
            "text/plain": [
              "array([17, 34, 58, 42, 34, 27, 11, 12, 34, 27,  4, 20, 31, 27, 20, 12, 27,\n",
              "       47, 34, 27, 17, 34, 58, 42, 16, 34, 45, 42,  5, 12, 27, 53, 20])"
            ]
          },
          "metadata": {},
          "execution_count": 60
        }
      ],
      "source": [
        "salidas[0]"
      ]
    },
    {
      "cell_type": "code",
      "execution_count": 61,
      "metadata": {
        "id": "2S3_I3S1W1Hm",
        "colab": {
          "base_uri": "https://localhost:8080/",
          "height": 36
        },
        "outputId": "53d3a6c5-a166-474d-8dee-d63a4513cac3"
      },
      "outputs": [
        {
          "output_type": "execute_result",
          "data": {
            "text/plain": [
              "'habia una vez en la habitación de'"
            ],
            "application/vnd.google.colaboratory.intrinsic+json": {
              "type": "string"
            }
          },
          "metadata": {},
          "execution_count": 61
        }
      ],
      "source": [
        "# veamos las salidas\n",
        "decode(salidas[0])"
      ]
    },
    {
      "cell_type": "markdown",
      "metadata": {
        "id": "Q_LlqmtEW1Hn"
      },
      "source": []
    }
  ],
  "metadata": {
    "accelerator": "GPU",
    "colab": {
      "gpuType": "T4",
      "provenance": []
    },
    "kernelspec": {
      "display_name": "Python 3",
      "name": "python3"
    },
    "language_info": {
      "name": "python"
    }
  },
  "nbformat": 4,
  "nbformat_minor": 0
}